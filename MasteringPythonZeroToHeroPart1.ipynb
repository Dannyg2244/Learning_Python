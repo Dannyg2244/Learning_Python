{
 "cells": [
  {
   "cell_type": "markdown",
   "id": "e8e49165-5dcf-4707-b01b-3650c479961e",
   "metadata": {},
   "source": [
    "# This is Python Tutorial"
   ]
  },
  {
   "cell_type": "markdown",
   "id": "7c999886-992b-4f7f-a687-6128b61af961",
   "metadata": {},
   "source": [
    "This is our first program in python, it just started here"
   ]
  },
  {
   "cell_type": "markdown",
   "id": "1f6f2eff-962b-42ad-9425-a104dd7d8cf7",
   "metadata": {},
   "source": [
    "print(\"Hello World\")"
   ]
  },
  {
   "cell_type": "code",
   "execution_count": 14,
   "id": "976d3eca-e328-487b-90c7-087a080be13a",
   "metadata": {},
   "outputs": [],
   "source": [
    "x = 2"
   ]
  },
  {
   "cell_type": "code",
   "execution_count": 23,
   "id": "ef9df79f-e69f-4aab-b1f2-3a117e796af8",
   "metadata": {},
   "outputs": [
    {
     "name": "stdout",
     "output_type": "stream",
     "text": [
      "Variable   Type    Data/Info\n",
      "----------------------------\n",
      "x          int     2\n"
     ]
    }
   ],
   "source": [
    "%whos"
   ]
  },
  {
   "cell_type": "raw",
   "id": "58854ef7-b192-493d-9f76-8d62a9cdf827",
   "metadata": {},
   "source": [
    "%whos #to check what is in the memory"
   ]
  },
  {
   "cell_type": "code",
   "execution_count": 19,
   "id": "b81883bb-ea86-49df-a8bf-b98f5ac417e3",
   "metadata": {},
   "outputs": [
    {
     "name": "stdout",
     "output_type": "stream",
     "text": [
      "<class 'int'>\n"
     ]
    }
   ],
   "source": [
    "print(type(x))"
   ]
  },
  {
   "cell_type": "code",
   "execution_count": 20,
   "id": "c2fe32c7-7c04-444b-b83b-f622075da786",
   "metadata": {},
   "outputs": [
    {
     "name": "stdout",
     "output_type": "stream",
     "text": [
      "Variable   Type    Data/Info\n",
      "----------------------------\n",
      "x          int     2\n"
     ]
    }
   ],
   "source": [
    "%whos"
   ]
  },
  {
   "cell_type": "markdown",
   "id": "d1c33e86-6af9-4bb7-865a-12ce1a907272",
   "metadata": {},
   "source": [
    "# Operator"
   ]
  },
  {
   "cell_type": "code",
   "execution_count": 24,
   "id": "04bcbe0b-f241-4b38-ae46-4105ce6219c6",
   "metadata": {},
   "outputs": [
    {
     "name": "stdout",
     "output_type": "stream",
     "text": [
      "Variable   Type    Data/Info\n",
      "----------------------------\n",
      "x          int     2\n"
     ]
    }
   ],
   "source": [
    "%whos"
   ]
  },
  {
   "cell_type": "code",
   "execution_count": 25,
   "id": "3569b34d-93ba-4c55-b14e-2e9ec1b5ff4a",
   "metadata": {},
   "outputs": [],
   "source": [
    "a,b,c,d,e = 2,4,5.0,6.1,7"
   ]
  },
  {
   "cell_type": "code",
   "execution_count": 26,
   "id": "4846965e-a2db-453c-9c29-9d1490410f51",
   "metadata": {},
   "outputs": [
    {
     "name": "stdout",
     "output_type": "stream",
     "text": [
      "Variable   Type     Data/Info\n",
      "-----------------------------\n",
      "a          int      2\n",
      "b          int      4\n",
      "c          float    5.0\n",
      "d          float    6.1\n",
      "e          int      7\n",
      "x          int      2\n"
     ]
    }
   ],
   "source": [
    "%whos"
   ]
  },
  {
   "cell_type": "code",
   "execution_count": 27,
   "id": "f98052db-dc6a-4e48-8869-e215fb500f22",
   "metadata": {},
   "outputs": [],
   "source": [
    "sum_of_ab = a + b"
   ]
  },
  {
   "cell_type": "code",
   "execution_count": 28,
   "id": "237aec54-65ca-4693-9857-8e482a259bec",
   "metadata": {},
   "outputs": [
    {
     "name": "stdout",
     "output_type": "stream",
     "text": [
      "6\n"
     ]
    }
   ],
   "source": [
    "print(sum_of_ab)"
   ]
  },
  {
   "cell_type": "code",
   "execution_count": 29,
   "id": "fd55f54a-19bb-4dc0-b371-c2019c9bea9f",
   "metadata": {},
   "outputs": [
    {
     "data": {
      "text/plain": [
       "int"
      ]
     },
     "execution_count": 29,
     "metadata": {},
     "output_type": "execute_result"
    }
   ],
   "source": [
    "type(sum_of_ab)"
   ]
  },
  {
   "cell_type": "code",
   "execution_count": 30,
   "id": "c0e466fe-7007-47b0-adc5-9df71025594c",
   "metadata": {},
   "outputs": [
    {
     "data": {
      "text/plain": [
       "float"
      ]
     },
     "execution_count": 30,
     "metadata": {},
     "output_type": "execute_result"
    }
   ],
   "source": [
    "type(a+d)"
   ]
  },
  {
   "cell_type": "code",
   "execution_count": 31,
   "id": "68061f7a-017c-4f13-b7ae-be0847efa2d8",
   "metadata": {},
   "outputs": [],
   "source": [
    "v = ((a+b)**3)/4"
   ]
  },
  {
   "cell_type": "code",
   "execution_count": 32,
   "id": "a56ebb50-e859-48fe-8c50-502cb981903a",
   "metadata": {},
   "outputs": [
    {
     "name": "stdout",
     "output_type": "stream",
     "text": [
      "54.0\n"
     ]
    }
   ],
   "source": [
    "print(v)"
   ]
  },
  {
   "cell_type": "code",
   "execution_count": 33,
   "id": "e6d3e6b0-0270-4e71-a06a-1810c3a1bf5f",
   "metadata": {},
   "outputs": [
    {
     "name": "stdout",
     "output_type": "stream",
     "text": [
      "helloworld\n"
     ]
    }
   ],
   "source": [
    "s1 = 'hello'\n",
    "s2 = 'world'\n",
    "s = s1 + s2\n",
    "print(s)"
   ]
  },
  {
   "cell_type": "code",
   "execution_count": 34,
   "id": "61c79fd1-d537-44db-b8e4-c0cca30e7aea",
   "metadata": {},
   "outputs": [
    {
     "data": {
      "text/plain": [
       "3.3333333333333335"
      ]
     },
     "execution_count": 34,
     "metadata": {},
     "output_type": "execute_result"
    }
   ],
   "source": [
    "10/3"
   ]
  },
  {
   "cell_type": "code",
   "execution_count": 35,
   "id": "5b1928ec-a157-40e0-bd44-fab4b4fcd6da",
   "metadata": {},
   "outputs": [
    {
     "data": {
      "text/plain": [
       "3"
      ]
     },
     "execution_count": 35,
     "metadata": {},
     "output_type": "execute_result"
    }
   ],
   "source": [
    "10//3"
   ]
  },
  {
   "cell_type": "code",
   "execution_count": 36,
   "id": "cde5c7fc-fbc3-44be-892a-ba0393d69768",
   "metadata": {},
   "outputs": [
    {
     "data": {
      "text/plain": [
       "3"
      ]
     },
     "execution_count": 36,
     "metadata": {},
     "output_type": "execute_result"
    }
   ],
   "source": [
    "_ "
   ]
  },
  {
   "cell_type": "code",
   "execution_count": 37,
   "id": "20940027-c376-4c43-84c2-460cbefeb28c",
   "metadata": {},
   "outputs": [],
   "source": [
    "_e = 4"
   ]
  },
  {
   "cell_type": "code",
   "execution_count": 38,
   "id": "3338bf0f-ead8-4ce6-beef-5ea1742b0608",
   "metadata": {},
   "outputs": [
    {
     "name": "stdout",
     "output_type": "stream",
     "text": [
      "Variable    Type     Data/Info\n",
      "------------------------------\n",
      "a           int      2\n",
      "b           int      4\n",
      "c           float    5.0\n",
      "d           float    6.1\n",
      "e           int      7\n",
      "s           str      helloworld\n",
      "s1          str      hello\n",
      "s2          str      world\n",
      "sum_of_ab   int      6\n",
      "v           float    54.0\n",
      "x           int      2\n"
     ]
    }
   ],
   "source": [
    "%whos"
   ]
  },
  {
   "cell_type": "markdown",
   "id": "de274ebe-e222-4ce1-a82e-3a925f92c116",
   "metadata": {},
   "source": [
    "# Type Bool and Comparisons"
   ]
  },
  {
   "cell_type": "code",
   "execution_count": 40,
   "id": "aea54d4e-dfcd-48cd-9eb4-a59e241457d0",
   "metadata": {},
   "outputs": [
    {
     "data": {
      "text/plain": [
       "False"
      ]
     },
     "execution_count": 40,
     "metadata": {},
     "output_type": "execute_result"
    }
   ],
   "source": [
    "1 == 3"
   ]
  },
  {
   "cell_type": "code",
   "execution_count": 41,
   "id": "59faf1e3-88d1-4bbf-aa69-5ff39c7ad9eb",
   "metadata": {},
   "outputs": [],
   "source": [
    "a = True\n",
    "b = True\n",
    "c = False"
   ]
  },
  {
   "cell_type": "code",
   "execution_count": 44,
   "id": "d440b503-cdd3-4cdd-9d57-28c6d014eab1",
   "metadata": {},
   "outputs": [
    {
     "name": "stdout",
     "output_type": "stream",
     "text": [
      "Variable    Type     Data/Info\n",
      "------------------------------\n",
      "a           bool     True\n",
      "b           bool     True\n",
      "c           bool     False\n",
      "d           float    6.1\n",
      "e           int      7\n",
      "s           str      helloworld\n",
      "s1          str      hello\n",
      "s2          str      world\n",
      "sum_of_ab   int      6\n",
      "v           float    54.0\n",
      "x           int      2\n"
     ]
    }
   ],
   "source": [
    "%whos"
   ]
  },
  {
   "cell_type": "code",
   "execution_count": 43,
   "id": "4fad9a4a-a97f-47e4-b5b8-47a9877a88d2",
   "metadata": {},
   "outputs": [
    {
     "name": "stdout",
     "output_type": "stream",
     "text": [
      "True\n",
      "False\n",
      "False\n"
     ]
    }
   ],
   "source": [
    "print(a and b)\n",
    "print(a and c)\n",
    "print(b and c)"
   ]
  },
  {
   "cell_type": "code",
   "execution_count": 45,
   "id": "c45979ed-b6c7-4df1-9393-b492d38deae2",
   "metadata": {},
   "outputs": [
    {
     "name": "stdout",
     "output_type": "stream",
     "text": [
      "True\n"
     ]
    }
   ],
   "source": [
    "d = a or b\n",
    "print(d)"
   ]
  },
  {
   "cell_type": "code",
   "execution_count": 46,
   "id": "c79dbe6d-93d8-45b4-b455-87d229016eb8",
   "metadata": {},
   "outputs": [
    {
     "name": "stdout",
     "output_type": "stream",
     "text": [
      "True\n"
     ]
    }
   ],
   "source": [
    "print(a or c)"
   ]
  },
  {
   "cell_type": "code",
   "execution_count": 47,
   "id": "d5866afe-2d1d-4d75-92bb-479b38560392",
   "metadata": {},
   "outputs": [
    {
     "data": {
      "text/plain": [
       "False"
      ]
     },
     "execution_count": 47,
     "metadata": {},
     "output_type": "execute_result"
    }
   ],
   "source": [
    "not (a)"
   ]
  },
  {
   "cell_type": "code",
   "execution_count": 48,
   "id": "12d1e0b5-f983-47fd-983b-8fa18cb53933",
   "metadata": {},
   "outputs": [
    {
     "data": {
      "text/plain": [
       "True"
      ]
     },
     "execution_count": 48,
     "metadata": {},
     "output_type": "execute_result"
    }
   ],
   "source": [
    "not (c)"
   ]
  },
  {
   "cell_type": "code",
   "execution_count": 49,
   "id": "a2a69c26-afae-484e-bf30-95966d6aeb4c",
   "metadata": {},
   "outputs": [
    {
     "data": {
      "text/plain": [
       "False"
      ]
     },
     "execution_count": 49,
     "metadata": {},
     "output_type": "execute_result"
    }
   ],
   "source": [
    "not ((a and b) or (a and c))"
   ]
  },
  {
   "cell_type": "markdown",
   "id": "b627f1b3-7553-4205-aa7f-cfc834e089ed",
   "metadata": {},
   "source": [
    "# Comparisons"
   ]
  },
  {
   "cell_type": "code",
   "execution_count": 50,
   "id": "c472eff5-475b-4720-947f-023f83264319",
   "metadata": {},
   "outputs": [
    {
     "name": "stdout",
     "output_type": "stream",
     "text": [
      "True\n"
     ]
    }
   ],
   "source": [
    "print(2 < 3)"
   ]
  },
  {
   "cell_type": "code",
   "execution_count": 51,
   "id": "2c117a4c-e814-473c-8f03-45c914546c3b",
   "metadata": {},
   "outputs": [
    {
     "name": "stdout",
     "output_type": "stream",
     "text": [
      "<class 'bool'>\n"
     ]
    }
   ],
   "source": [
    "c = 2 < 3\n",
    "print(type(c))"
   ]
  },
  {
   "cell_type": "code",
   "execution_count": 52,
   "id": "12f301e0-1d71-40ed-93e3-cd00c08b38cd",
   "metadata": {},
   "outputs": [
    {
     "name": "stdout",
     "output_type": "stream",
     "text": [
      "True\n"
     ]
    }
   ],
   "source": [
    "print(c)"
   ]
  },
  {
   "cell_type": "code",
   "execution_count": 53,
   "id": "b93de92c-2c00-4bde-867a-ed9e1534d503",
   "metadata": {},
   "outputs": [
    {
     "name": "stdout",
     "output_type": "stream",
     "text": [
      "False\n"
     ]
    }
   ],
   "source": [
    "d = 3 == 4\n",
    "print(d)"
   ]
  },
  {
   "cell_type": "code",
   "execution_count": 54,
   "id": "e439e50c-0927-4caf-8666-d81f7ae1eaeb",
   "metadata": {},
   "outputs": [
    {
     "data": {
      "text/plain": [
       "True"
      ]
     },
     "execution_count": 54,
     "metadata": {},
     "output_type": "execute_result"
    }
   ],
   "source": [
    "3 == 3.0"
   ]
  },
  {
   "cell_type": "code",
   "execution_count": 55,
   "id": "82ef3e93-6814-4924-afce-5323324afcff",
   "metadata": {},
   "outputs": [],
   "source": [
    "x = 4\n",
    "y = 9\n",
    "z = 8.3\n",
    "r = -3"
   ]
  },
  {
   "cell_type": "code",
   "execution_count": 56,
   "id": "d0a07dbb-f06f-40ae-ac58-f1485426eb0f",
   "metadata": {},
   "outputs": [
    {
     "data": {
      "text/plain": [
       "True"
      ]
     },
     "execution_count": 56,
     "metadata": {},
     "output_type": "execute_result"
    }
   ],
   "source": [
    "(x<y) and (z<y) or (r == x)"
   ]
  },
  {
   "cell_type": "code",
   "execution_count": 58,
   "id": "a2f521e2-2047-4703-91ac-887e58d1c7f2",
   "metadata": {},
   "outputs": [
    {
     "name": "stdout",
     "output_type": "stream",
     "text": [
      "False\n"
     ]
    }
   ],
   "source": [
    "print((not (2!=3) and True) or (False and True))"
   ]
  },
  {
   "cell_type": "code",
   "execution_count": 59,
   "id": "6e28ec0a-6ce1-4199-bf0d-a9dc0ba9fd95",
   "metadata": {},
   "outputs": [
    {
     "name": "stdout",
     "output_type": "stream",
     "text": [
      "5\n",
      "4\n",
      "4.567\n"
     ]
    }
   ],
   "source": [
    "print(round(4.563))\n",
    "print(round(4.365))\n",
    "print(round(4.5673, 3))"
   ]
  },
  {
   "cell_type": "code",
   "execution_count": 62,
   "id": "f0d88cec-fd24-4af4-95ad-e585162e05fe",
   "metadata": {},
   "outputs": [
    {
     "name": "stdout",
     "output_type": "stream",
     "text": [
      "(6, 0)\n"
     ]
    }
   ],
   "source": [
    "G = divmod(30,5)\n",
    "type(G)\n",
    "print(G)"
   ]
  },
  {
   "cell_type": "code",
   "execution_count": 63,
   "id": "d1376911-2ec2-4561-bcb1-b34257376828",
   "metadata": {},
   "outputs": [
    {
     "data": {
      "text/plain": [
       "6"
      ]
     },
     "execution_count": 63,
     "metadata": {},
     "output_type": "execute_result"
    }
   ],
   "source": [
    "G[0]"
   ]
  },
  {
   "cell_type": "code",
   "execution_count": 64,
   "id": "442b8264-3f03-4d26-b75c-541cc0e90354",
   "metadata": {},
   "outputs": [
    {
     "data": {
      "text/plain": [
       "0"
      ]
     },
     "execution_count": 64,
     "metadata": {},
     "output_type": "execute_result"
    }
   ],
   "source": [
    "G[1]"
   ]
  },
  {
   "cell_type": "code",
   "execution_count": 65,
   "id": "282c0711-faa1-4d62-a14f-e07b02051b2f",
   "metadata": {},
   "outputs": [
    {
     "name": "stdout",
     "output_type": "stream",
     "text": [
      "True\n"
     ]
    }
   ],
   "source": [
    "print(isinstance(1,int))"
   ]
  },
  {
   "cell_type": "code",
   "execution_count": 68,
   "id": "8a3bc699-8fb9-4965-84a9-2b69e8a9a901",
   "metadata": {},
   "outputs": [
    {
     "name": "stdout",
     "output_type": "stream",
     "text": [
      "True\n"
     ]
    }
   ],
   "source": [
    "print(isinstance(3.4, (float, int)))"
   ]
  },
  {
   "cell_type": "code",
   "execution_count": 70,
   "id": "b1a110c9-0b13-4e6e-aadc-391f198663f0",
   "metadata": {},
   "outputs": [
    {
     "name": "stdout",
     "output_type": "stream",
     "text": [
      "True\n"
     ]
    }
   ],
   "source": [
    "print(isinstance(2+3j,(int, float, str, complex)))"
   ]
  },
  {
   "cell_type": "code",
   "execution_count": 71,
   "id": "8c0fd865-9ad4-4b98-a265-58aa473467cb",
   "metadata": {},
   "outputs": [
    {
     "data": {
      "text/plain": [
       "16"
      ]
     },
     "execution_count": 71,
     "metadata": {},
     "output_type": "execute_result"
    }
   ],
   "source": [
    "pow(2,4)"
   ]
  },
  {
   "cell_type": "code",
   "execution_count": 72,
   "id": "3de62a70-6289-42ef-b46a-3fdb0515d9c6",
   "metadata": {},
   "outputs": [
    {
     "data": {
      "text/plain": [
       "16"
      ]
     },
     "execution_count": 72,
     "metadata": {},
     "output_type": "execute_result"
    }
   ],
   "source": [
    "2**4"
   ]
  },
  {
   "cell_type": "code",
   "execution_count": 73,
   "id": "c0d4e3ee-0fc0-4b80-9de8-bb244e2a3d54",
   "metadata": {},
   "outputs": [
    {
     "data": {
      "text/plain": [
       "2"
      ]
     },
     "execution_count": 73,
     "metadata": {},
     "output_type": "execute_result"
    }
   ],
   "source": [
    "pow(2,4,7)"
   ]
  },
  {
   "cell_type": "code",
   "execution_count": 74,
   "id": "b5f6d9d0-08bd-4185-b16f-1de4f843c35c",
   "metadata": {},
   "outputs": [
    {
     "data": {
      "text/plain": [
       "2"
      ]
     },
     "execution_count": 74,
     "metadata": {},
     "output_type": "execute_result"
    }
   ],
   "source": [
    "(2**4)%7"
   ]
  },
  {
   "cell_type": "code",
   "execution_count": 77,
   "id": "b1733b89-f0e3-460c-b40e-d9ec2113f707",
   "metadata": {},
   "outputs": [
    {
     "name": "stdin",
     "output_type": "stream",
     "text": [
      "Enter a number: 56\n"
     ]
    }
   ],
   "source": [
    "x = input(\"Enter a number:\")"
   ]
  },
  {
   "cell_type": "code",
   "execution_count": 76,
   "id": "5bc949fe-6007-4b72-997e-1d95aa8424b1",
   "metadata": {},
   "outputs": [
    {
     "data": {
      "text/plain": [
       "str"
      ]
     },
     "execution_count": 76,
     "metadata": {},
     "output_type": "execute_result"
    }
   ],
   "source": [
    "type(x)"
   ]
  },
  {
   "cell_type": "code",
   "execution_count": 78,
   "id": "5d2b8427-2ced-48e7-81f5-ab335f024bcd",
   "metadata": {},
   "outputs": [],
   "source": [
    "x = int(x)"
   ]
  },
  {
   "cell_type": "code",
   "execution_count": 79,
   "id": "140d001a-b901-4363-8b51-6ab2c9b31b82",
   "metadata": {},
   "outputs": [
    {
     "data": {
      "text/plain": [
       "int"
      ]
     },
     "execution_count": 79,
     "metadata": {},
     "output_type": "execute_result"
    }
   ],
   "source": [
    "type(x)"
   ]
  },
  {
   "cell_type": "code",
   "execution_count": 80,
   "id": "290d9c63-c022-4cf9-9110-ce6cc5b9ce96",
   "metadata": {},
   "outputs": [
    {
     "data": {
      "text/plain": [
       "784"
      ]
     },
     "execution_count": 80,
     "metadata": {},
     "output_type": "execute_result"
    }
   ],
   "source": [
    "x * 14"
   ]
  },
  {
   "cell_type": "code",
   "execution_count": 81,
   "id": "255e221e-b3f6-430f-a369-5084e5761800",
   "metadata": {},
   "outputs": [
    {
     "name": "stdin",
     "output_type": "stream",
     "text": [
      "Enter a real number: 12.5\n"
     ]
    }
   ],
   "source": [
    "a = float(input(\"Enter a real number:\"))"
   ]
  },
  {
   "cell_type": "code",
   "execution_count": 82,
   "id": "829d78f1-a202-41ce-92e7-afad56af1561",
   "metadata": {},
   "outputs": [
    {
     "data": {
      "text/plain": [
       "float"
      ]
     },
     "execution_count": 82,
     "metadata": {},
     "output_type": "execute_result"
    }
   ],
   "source": [
    "type(a)"
   ]
  },
  {
   "cell_type": "code",
   "execution_count": 86,
   "id": "7b05dd62-ceb6-4977-ba4a-ece0686ed680",
   "metadata": {},
   "outputs": [
    {
     "name": "stdout",
     "output_type": "stream",
     "text": [
      "Help on built-in function pow in module builtins:\n",
      "\n",
      "pow(base, exp, mod=None)\n",
      "    Equivalent to base**exp with 2 arguments or base**exp % mod with 3 arguments\n",
      "\n",
      "    Some types, such as ints, are able to use a more efficient algorithm when\n",
      "    invoked using the three argument form.\n",
      "\n"
     ]
    }
   ],
   "source": [
    "help(pow)"
   ]
  },
  {
   "cell_type": "code",
   "execution_count": 87,
   "id": "bce9e875-a86f-476f-a74b-85d39e19aae0",
   "metadata": {},
   "outputs": [
    {
     "data": {
      "text/plain": [
       "\u001b[1;31mSignature:\u001b[0m \u001b[0minput\u001b[0m\u001b[1;33m(\u001b[0m\u001b[0mprompt\u001b[0m\u001b[1;33m=\u001b[0m\u001b[1;34m''\u001b[0m\u001b[1;33m)\u001b[0m\u001b[1;33m\u001b[0m\u001b[1;33m\u001b[0m\u001b[0m\n",
       "\u001b[1;31mDocstring:\u001b[0m\n",
       "Forward raw_input to frontends\n",
       "\n",
       "Raises\n",
       "------\n",
       "StdinNotImplementedError if active frontend doesn't support stdin.\n",
       "\u001b[1;31mFile:\u001b[0m      c:\\users\\dannyg\\anaconda3\\lib\\site-packages\\ipykernel\\kernelbase.py\n",
       "\u001b[1;31mType:\u001b[0m      method"
      ]
     },
     "metadata": {},
     "output_type": "display_data"
    }
   ],
   "source": [
    "input?"
   ]
  },
  {
   "cell_type": "markdown",
   "id": "06b3f7c2-cb62-47d1-9912-774c3e01a516",
   "metadata": {},
   "source": [
    "# CONTROL FLOW (UNDERSTAND IF CONDITION and INDENTATION)"
   ]
  },
  {
   "cell_type": "code",
   "execution_count": 1,
   "id": "06d26313-6cee-487d-810f-331082f281fc",
   "metadata": {},
   "outputs": [
    {
     "name": "stdin",
     "output_type": "stream",
     "text": [
      "Enter a real number: 4\n",
      "Enter a real number: 5\n"
     ]
    },
    {
     "name": "stdout",
     "output_type": "stream",
     "text": [
      "b is greater than a: 5\n"
     ]
    }
   ],
   "source": [
    "a = int(input(\"Enter a real number:\"))\n",
    "b = int(input(\"Enter a real number:\"))\n",
    "if(a > b):\n",
    "    print('a is greater than b:', a)\n",
    "else:\n",
    "    print('b is greater than a:', b)"
   ]
  },
  {
   "cell_type": "code",
   "execution_count": 3,
   "id": "b6bdc46a-5ec1-4b74-bf71-ca0998b0ae3a",
   "metadata": {},
   "outputs": [
    {
     "name": "stdin",
     "output_type": "stream",
     "text": [
      "enter any real number: 7\n",
      "enter your second number: 7\n"
     ]
    },
    {
     "name": "stdout",
     "output_type": "stream",
     "text": [
      "a is equal to b\n"
     ]
    }
   ],
   "source": [
    "a = float(input(\"enter any real number:\"))\n",
    "b = float(input(\"enter your second number:\"))\n",
    "if (a > b):\n",
    "    print(\"a is greater than b:\", a)\n",
    "elif(a == b):\n",
    "    print(\"a is equal to b\")\n",
    "else:\n",
    "    print(\"b is greater than a:\", b)"
   ]
  },
  {
   "cell_type": "code",
   "execution_count": 4,
   "id": "5beddf75-2c3c-4a6a-817f-c3603a708296",
   "metadata": {},
   "outputs": [
    {
     "name": "stdout",
     "output_type": "stream",
     "text": [
      "4\n"
     ]
    }
   ],
   "source": [
    "a = 2\n",
    "b = 4\n",
    "print(a) if a>b else print(\"=\") if a == b else print(b)"
   ]
  },
  {
   "cell_type": "code",
   "execution_count": 8,
   "id": "08062421-8772-4899-b2a4-37039eee01e8",
   "metadata": {},
   "outputs": [
    {
     "name": "stdin",
     "output_type": "stream",
     "text": [
      "enter mark: 90\n"
     ]
    },
    {
     "name": "stdout",
     "output_type": "stream",
     "text": [
      "A Grade\n",
      "you have 4 point\n"
     ]
    }
   ],
   "source": [
    "a = float(input(\"enter mark:\"))\n",
    "if a>=70:\n",
    "    print(\"A Grade\")\n",
    "    print(\"you have 4 point\")\n",
    "elif (a>=60) and (a < 70):\n",
    "    print(\"B Grade\")\n",
    "    print(\"you have 3 point\")\n",
    "elif(a>=50) and (a < 60):\n",
    "    print(\"C Grade\")\n",
    "    print(\"you have 2 point\")\n",
    "elif(a>= 45) and (a < 50):\n",
    "    print(\"D Grade\")\n",
    "    print(\"you have 1 point\")\n",
    "elif(a>=40) and (a<45):\n",
    "    print(\"E Grade\")\n",
    "    print(\"you have 0 point\")\n",
    "else:\n",
    "    print(\"F Grade\")\n",
    "    print(\"You failed\")"
   ]
  },
  {
   "cell_type": "markdown",
   "id": "87bb2dd2-5eec-43ff-837e-35b7ca8eaf22",
   "metadata": {},
   "source": [
    "# Nested If"
   ]
  },
  {
   "cell_type": "code",
   "execution_count": 15,
   "id": "e2773583-9894-4083-9b51-b8daa5d3bfe5",
   "metadata": {},
   "outputs": [
    {
     "name": "stdin",
     "output_type": "stream",
     "text": [
      " 15\n"
     ]
    },
    {
     "name": "stdout",
     "output_type": "stream",
     "text": [
      "a is greater than 10\n",
      "inside the top if\n",
      "a is smaller or equal to 20\n",
      "outside the nested if statement\n"
     ]
    }
   ],
   "source": [
    "a = int(input())\n",
    "if a>10:\n",
    "    print(\"a is greater than 10\")\n",
    "    print(\"inside the top if\")\n",
    "    if(a > 20):\n",
    "        print(\"a is also greater than 20\")\n",
    "        print(\"inside the nested if statement\")\n",
    "    else:\n",
    "        print(\"a is smaller or equal to 20\")\n",
    "        print(\"outside the nested if statement\")\n",
    "else:\n",
    "    print(\"a is lesser than or equal to 10\")\n",
    "    print(\"outside the if statement completely\")"
   ]
  },
  {
   "cell_type": "code",
   "execution_count": 18,
   "id": "bee9575f-6351-41ac-8e58-d77e371bdb36",
   "metadata": {},
   "outputs": [
    {
     "name": "stdin",
     "output_type": "stream",
     "text": [
      "enter any decimal number: 33.4\n"
     ]
    },
    {
     "name": "stdout",
     "output_type": "stream",
     "text": [
      "odd number: 33\n"
     ]
    }
   ],
   "source": [
    "# SINGLE LINE COMMENT (Check this task again)\n",
    "\"\"\"\n",
    "TASK:\n",
    "User will enter a floating point number let say 235.768. your task is to find \n",
    "out the integer portion before the point (in this case 235) and then check if \n",
    "that integer portion is an even number or not\n",
    "\"\"\"\n",
    "a = float(input(\"enter any decimal number:\"))\n",
    "b = round(a)\n",
    "if b%2 == 0:# this give even number\n",
    "    print(\"even number:\", b)\n",
    "else:\n",
    "    print(\"odd number:\", b)"
   ]
  },
  {
   "cell_type": "markdown",
   "id": "4b27cd44-1b99-465d-b95c-04a0165ec743",
   "metadata": {},
   "source": [
    "# CONTROL FLOW (LOOPS)"
   ]
  },
  {
   "cell_type": "code",
   "execution_count": null,
   "id": "4b0f8a29-4304-4464-b9d3-513b31f49ffb",
   "metadata": {},
   "outputs": [],
   "source": [
    "n = int(input(\"enter any integer number:\"))\n",
    "i = 1\n",
    "while (i<n):\n",
    "    print(i**2)\n",
    "    print(\"this is the iteration of i:\", i)\n",
    "    i += 1 # i = i+1\n",
    "print(\"Loop done\")"
   ]
  },
  {
   "cell_type": "code",
   "execution_count": 29,
   "id": "35eb86e2-988f-4a60-b305-5fe2e48cecaa",
   "metadata": {},
   "outputs": [
    {
     "name": "stdin",
     "output_type": "stream",
     "text": [
      "enter any integer: 5\n"
     ]
    },
    {
     "name": "stdout",
     "output_type": "stream",
     "text": [
      "this is an even number 2\n",
      "this is an even number 4\n",
      "Loops done\n"
     ]
    }
   ],
   "source": [
    "n = int(input(\"enter any integer:\"))\n",
    "i = 1\n",
    "while (i<n):\n",
    "    if (i%2 == 0):\n",
    "        print(\"this is an even number\", i)\n",
    "    else:\n",
    "        pass        \n",
    "    i += 1\n",
    "print(\"Loops done\")"
   ]
  },
  {
   "cell_type": "markdown",
   "id": "50c3028c-d13a-41c6-834c-69cb9e342af9",
   "metadata": {},
   "source": [
    "# CONTROL FLOW(LOOPS:BREAK, CONTINUE)"
   ]
  },
  {
   "cell_type": "code",
   "execution_count": 33,
   "id": "d577fe13-c07f-44b3-80fb-8ef05132bab9",
   "metadata": {},
   "outputs": [
    {
     "name": "stdout",
     "output_type": "stream",
     "text": [
      "i am inside the loop\n",
      "i am inside the loop\n",
      "i am inside the loop\n",
      "i am inside the loop\n",
      "i am inside the loop\n",
      "i am inside the loop\n",
      "i am inside the loop\n",
      "i am inside the loop\n",
      "inside if\n",
      "done\n"
     ]
    }
   ],
   "source": [
    "n = 10\n",
    "i = 1\n",
    "while True:\n",
    "    if (i % 9 == 0):\n",
    "        print('inside if')\n",
    "        break\n",
    "    else:\n",
    "        i = i+1\n",
    "    print(\"i am inside the loop\")\n",
    "print('done')"
   ]
  },
  {
   "cell_type": "code",
   "execution_count": 44,
   "id": "65f30a87-a0f7-45e4-9624-2c1ae3c36754",
   "metadata": {},
   "outputs": [
    {
     "name": "stdout",
     "output_type": "stream",
     "text": [
      "inside if\n",
      "inside if\n",
      "inside if\n",
      "inside if\n",
      "inside if\n",
      "inside if\n",
      "inside if\n",
      "inside if\n",
      "i am inside the loop\n",
      "done\n"
     ]
    }
   ],
   "source": [
    "n = 10\n",
    "i = 1\n",
    "while True:\n",
    "    if (i % 9 != 0):\n",
    "        print('inside if')\n",
    "        i = i+1\n",
    "        continue\n",
    "    print(\"i am inside the loop\")\n",
    "    break\n",
    "print('done')"
   ]
  },
  {
   "cell_type": "code",
   "execution_count": 53,
   "id": "f6cc8ffb-b714-47f3-bfe8-e0701262d689",
   "metadata": {},
   "outputs": [
    {
     "name": "stdout",
     "output_type": "stream",
     "text": [
      "1\n",
      "4\n",
      "7\n",
      "[1, 16, 49]\n"
     ]
    }
   ],
   "source": [
    "L = []\n",
    "for i in range(1,10,3): # for loops is used over counter\n",
    "    print(i)\n",
    "    L.append(i**2)\n",
    "print(L)"
   ]
  },
  {
   "cell_type": "code",
   "execution_count": 47,
   "id": "7bed6234-7715-4e43-9c1a-49fe445daabd",
   "metadata": {},
   "outputs": [
    {
     "data": {
      "text/plain": [
       "\u001b[1;31mInit signature:\u001b[0m \u001b[0mrange\u001b[0m\u001b[1;33m(\u001b[0m\u001b[0mself\u001b[0m\u001b[1;33m,\u001b[0m \u001b[1;33m/\u001b[0m\u001b[1;33m,\u001b[0m \u001b[1;33m*\u001b[0m\u001b[0margs\u001b[0m\u001b[1;33m,\u001b[0m \u001b[1;33m**\u001b[0m\u001b[0mkwargs\u001b[0m\u001b[1;33m)\u001b[0m\u001b[1;33m\u001b[0m\u001b[1;33m\u001b[0m\u001b[0m\n",
       "\u001b[1;31mDocstring:\u001b[0m     \n",
       "range(stop) -> range object\n",
       "range(start, stop[, step]) -> range object\n",
       "\n",
       "Return an object that produces a sequence of integers from start (inclusive)\n",
       "to stop (exclusive) by step.  range(i, j) produces i, i+1, i+2, ..., j-1.\n",
       "start defaults to 0, and stop is omitted!  range(4) produces 0, 1, 2, 3.\n",
       "These are exactly the valid indices for a list of 4 elements.\n",
       "When step is given, it specifies the increment (or decrement).\n",
       "\u001b[1;31mType:\u001b[0m           type\n",
       "\u001b[1;31mSubclasses:\u001b[0m     "
      ]
     },
     "metadata": {},
     "output_type": "display_data"
    }
   ],
   "source": [
    "range?"
   ]
  },
  {
   "cell_type": "markdown",
   "id": "4b10b48c-9164-4b94-b350-6515e5952de7",
   "metadata": {},
   "source": [
    "# Control flows (else in for loops)"
   ]
  },
  {
   "cell_type": "code",
   "execution_count": 51,
   "id": "18ee044d-b0c2-47dc-adf9-5feb035765f6",
   "metadata": {},
   "outputs": [
    {
     "name": "stdout",
     "output_type": "stream",
     "text": [
      "pineaple\n",
      "2\n",
      "3\n",
      "6\n",
      "outside the loop\n"
     ]
    }
   ],
   "source": [
    "S = {3, 7, \"Apple\", 2, 6, \"orange\", \"pineaple\"}\n",
    "i = 1\n",
    "for x in S:\n",
    "    print(x)\n",
    "    i += 1\n",
    "    if (i == 5):\n",
    "        break\n",
    "    else:\n",
    "        pass\n",
    "\n",
    "print(\"outside the loop\")"
   ]
  },
  {
   "cell_type": "code",
   "execution_count": 61,
   "id": "0ad54ac6-dea8-4245-9e25-863359112c5a",
   "metadata": {},
   "outputs": [
    {
     "name": "stdout",
     "output_type": "stream",
     "text": [
      "A 44\n",
      "B 12\n",
      "C a,b,c\n",
      "[44, 12, 'a,b,c']\n"
     ]
    }
   ],
   "source": [
    "L = []\n",
    "D = {\"A\": 44, \"B\": 12, \"C\":\"a,b,c\"}\n",
    "for x in D:\n",
    "    print(x, D[x])\n",
    "    L.append(D[x])\n",
    "print(L)"
   ]
  },
  {
   "cell_type": "code",
   "execution_count": 92,
   "id": "8bf89282-d35b-439a-a0b6-5b4d6345a47d",
   "metadata": {},
   "outputs": [
    {
     "name": "stdout",
     "output_type": "stream",
     "text": [
      "[9, 7, 4, 3, 2, 2, 1, -5]\n"
     ]
    }
   ],
   "source": [
    "\"\"\"   TASK***\n",
    "    Given a list of number i.e [1, 2, 4, -5, 7, 9, 3, 2], make another list\n",
    "    that contain all the items in sorted order from min to max i.e your \n",
    "    rsults will be another list like [-5, 1, 2, 2, 3, 4, 7, 9]\n",
    "\"\"\"\n",
    "L = [1, 2, 4, -5, 7, 9, 3, 2]\n",
    "S = sorted(L, reverse=True)\n",
    "print(S)\n",
    "    "
   ]
  },
  {
   "cell_type": "code",
   "execution_count": 37,
   "id": "ac56f1c1-b9aa-445f-a2ca-417f413f6eab",
   "metadata": {},
   "outputs": [
    {
     "name": "stdout",
     "output_type": "stream",
     "text": [
      "7 [-5, 1, 2, 2, 3, 4, 7, 9]\n"
     ]
    }
   ],
   "source": [
    "\"\"\"   TASK***\n",
    "    Given a list of number i.e [1, 2, 4, -5, 7, 9, 3, 2], make another list\n",
    "    that contain all the items in sorted order from min to max i.e your \n",
    "    rsults will be another list like [-5, 1, 2, 2, 3, 4, 7, 9]\n",
    "\"\"\"\n",
    "L = [1, 2, 4, -5, 7, 9, 3, 2]\n",
    "for j in range(len(L)):\n",
    "    n = L[j]\n",
    "    idx = j\n",
    "    #c = j\n",
    "    for i in range(j, len(L)):\n",
    "        if(L[i] <= n):\n",
    "            n = L[i]\n",
    "            idx = i\n",
    "       # c+=1\n",
    "    tmp = L[j]\n",
    "    L[j] = n\n",
    "    L[idx] = tmp\n",
    "print(idx, L)"
   ]
  },
  {
   "cell_type": "markdown",
   "id": "00f63361-fde0-42fe-8780-d2b0e92221ab",
   "metadata": {},
   "source": [
    "# FUNCTIONS"
   ]
  },
  {
   "cell_type": "code",
   "execution_count": 2,
   "id": "36d23311-41a3-4ffa-a93f-7401370f40b4",
   "metadata": {},
   "outputs": [],
   "source": [
    "def printSuccess():\n",
    "    \"\"\"This code does nothing\"\"\"\n",
    "    print(\"I am done\")\n",
    "    print(\"send me another task\")"
   ]
  },
  {
   "cell_type": "code",
   "execution_count": 3,
   "id": "5bffbb00-cb58-4745-aa98-7aa5e2dffc9a",
   "metadata": {},
   "outputs": [
    {
     "data": {
      "text/plain": [
       "\u001b[1;31mSignature:\u001b[0m \u001b[0mprintSuccess\u001b[0m\u001b[1;33m(\u001b[0m\u001b[1;33m)\u001b[0m\u001b[1;33m\u001b[0m\u001b[1;33m\u001b[0m\u001b[0m\n",
       "\u001b[1;31mDocstring:\u001b[0m This code does nothing\n",
       "\u001b[1;31mFile:\u001b[0m      c:\\users\\dannyg\\appdata\\local\\temp\\ipykernel_10760\\4184984026.py\n",
       "\u001b[1;31mType:\u001b[0m      function"
      ]
     },
     "metadata": {},
     "output_type": "display_data"
    }
   ],
   "source": [
    "printSuccess?"
   ]
  },
  {
   "cell_type": "markdown",
   "id": "830fe9ea-c2af-4843-aa20-ad1f02813693",
   "metadata": {},
   "source": [
    "FUNCTIONS (INPUT ARGUMENTS)"
   ]
  },
  {
   "cell_type": "code",
   "execution_count": 7,
   "id": "fef496ac-688c-480b-944a-61c0d274df90",
   "metadata": {},
   "outputs": [],
   "source": [
    "def printMessage(msg):\n",
    "    \"\"\"\n",
    "    The function print the message supplied by the \n",
    "    users or print that msg is nopt of the form of str\n",
    "    \"\"\"\n",
    "    if isinstance(msg, str):\n",
    "        print(msg)\n",
    "    else:\n",
    "        print(\"Your input argument is not a string\")\n",
    "        print(\"Here is the type of what you have supplied: \", type(msg))"
   ]
  },
  {
   "cell_type": "code",
   "execution_count": 12,
   "id": "ab473f79-8ee7-4f58-9996-7ee6acb18db5",
   "metadata": {},
   "outputs": [
    {
     "name": "stdout",
     "output_type": "stream",
     "text": [
      "Help on function printMessage in module __main__:\n",
      "\n",
      "printMessage(msg)\n",
      "    The function print the message supplied by the\n",
      "    users or print that msg is nopt of the form of str\n",
      "\n"
     ]
    }
   ],
   "source": [
    "help(printMessage)"
   ]
  },
  {
   "cell_type": "code",
   "execution_count": 13,
   "id": "f7e5884a-0130-45b8-96fb-2d49bae81ce3",
   "metadata": {},
   "outputs": [
    {
     "name": "stdout",
     "output_type": "stream",
     "text": [
      "hello there\n"
     ]
    }
   ],
   "source": [
    "y = 'hello there'\n",
    "printMessage(y)"
   ]
  },
  {
   "cell_type": "markdown",
   "id": "1cdf2373-3e29-43cb-b5c0-520d2346abcb",
   "metadata": {},
   "source": [
    "functions (Multiple Arguments)"
   ]
  },
  {
   "cell_type": "code",
   "execution_count": 14,
   "id": "4a735f90-2e29-4dfe-92e2-bde4c8446337",
   "metadata": {},
   "outputs": [],
   "source": [
    "def mypow(a,b):\n",
    "    \"\"\"\n",
    "    this function compute powerr just like builtin function\n",
    "    \"\"\"\n",
    "    c = a**b\n",
    "    print(c)"
   ]
  },
  {
   "cell_type": "code",
   "execution_count": 15,
   "id": "265dd17b-0836-4bc8-bc46-8c0c608e73b4",
   "metadata": {},
   "outputs": [
    {
     "name": "stdout",
     "output_type": "stream",
     "text": [
      "16384\n"
     ]
    }
   ],
   "source": [
    "mypow(4,7)"
   ]
  },
  {
   "cell_type": "code",
   "execution_count": 24,
   "id": "0d9f6d27-bd3a-41a8-a5fb-ff93ebd53647",
   "metadata": {},
   "outputs": [],
   "source": [
    "def checkArgs(a,b,c):\n",
    "    \"\"\"\n",
    "    this function checks for the input and print\n",
    "    if the user input integers or float but return \n",
    "    error if the input is a string \n",
    "    \"\"\"\n",
    "    if (isinstance(a, (int, float)) and isinstance(b, (int, float)) and isinstance(c, (int, float))):\n",
    "        print((a+b+c)**2)\n",
    "    else:\n",
    "        print(\"Error, the input arg is not of the expected type\")"
   ]
  },
  {
   "cell_type": "code",
   "execution_count": 19,
   "id": "7c6dcc3c-ff47-4a36-90ed-86d4f999f4a1",
   "metadata": {},
   "outputs": [
    {
     "name": "stdout",
     "output_type": "stream",
     "text": [
      "81\n"
     ]
    }
   ],
   "source": [
    "checkArgs(2, 4, 3)"
   ]
  },
  {
   "cell_type": "code",
   "execution_count": 23,
   "id": "50ab621e-9282-4b0b-950e-7b476a91ee38",
   "metadata": {},
   "outputs": [
    {
     "name": "stdout",
     "output_type": "stream",
     "text": [
      "Error, the input arg is not of the expected type\n"
     ]
    }
   ],
   "source": [
    "checkArgs(2,3,'g')"
   ]
  },
  {
   "cell_type": "markdown",
   "id": "02bbdf84-c5ff-4c10-af10-9198c6640668",
   "metadata": {},
   "source": [
    "FUNCTIONS (ORDER OF INPUT ARGUMENT)"
   ]
  },
  {
   "cell_type": "code",
   "execution_count": 25,
   "id": "37bd0cbb-0e44-4e41-abb8-ae56a79401cd",
   "metadata": {},
   "outputs": [],
   "source": [
    "def orderVar(c1, c2, c3):\n",
    "    \"\"\"\n",
    "        this function is to change the order \n",
    "        of the variable of the function\n",
    "    \"\"\"\n",
    "    print(\"A is :\", c1)\n",
    "    print(\"B is :\", c2)\n",
    "    print(\"C is :\", c3)"
   ]
  },
  {
   "cell_type": "code",
   "execution_count": 26,
   "id": "c46302fc-1d27-4e4c-bbeb-30016489e53e",
   "metadata": {},
   "outputs": [
    {
     "name": "stdout",
     "output_type": "stream",
     "text": [
      "A is : 2\n",
      "B is : 4\n",
      "C is : house\n"
     ]
    }
   ],
   "source": [
    "orderVar(2, 4, \"house\")"
   ]
  },
  {
   "cell_type": "code",
   "execution_count": 28,
   "id": "a84e80c6-e03e-4d30-b2f7-eacb373a0c86",
   "metadata": {},
   "outputs": [
    {
     "name": "stdout",
     "output_type": "stream",
     "text": [
      "A is : 3\n",
      "B is : house\n",
      "C is : cow\n"
     ]
    }
   ],
   "source": [
    "#orderVar(c1=3, c2=\"House\", c3=\"cow\")\n",
    "orderVar(c3=\"cow\", c1=3, c2=\"house\")"
   ]
  },
  {
   "cell_type": "markdown",
   "id": "e74eeb2a-5df7-4587-afa6-f3b5b4a4a80e",
   "metadata": {},
   "source": [
    "FUNCTIONS(Return Statement)"
   ]
  },
  {
   "cell_type": "code",
   "execution_count": 29,
   "id": "ab27320c-b378-47fe-af22-78cd06016f6b",
   "metadata": {},
   "outputs": [],
   "source": [
    "def myadd(x, y):\n",
    "    sumValue = x + y\n",
    "    return sumValue"
   ]
  },
  {
   "cell_type": "code",
   "execution_count": 33,
   "id": "8c96b712-5ac8-4827-9520-be308d297344",
   "metadata": {},
   "outputs": [
    {
     "name": "stdout",
     "output_type": "stream",
     "text": [
      "5\n"
     ]
    }
   ],
   "source": [
    "d = myadd(2, 3)\n",
    "print(d)"
   ]
  },
  {
   "cell_type": "code",
   "execution_count": 34,
   "id": "bf9bc95f-587b-48fa-87b7-793cd8ae0cb4",
   "metadata": {},
   "outputs": [],
   "source": [
    "variableOutsideTheFunction = 3 # global variable"
   ]
  },
  {
   "cell_type": "code",
   "execution_count": 35,
   "id": "dea5c1dd-5c95-4dc8-b9f0-d0fde67f9a18",
   "metadata": {},
   "outputs": [],
   "source": [
    "def g():\n",
    "    variableOutsideTheFunction = 5 # local variable which got diminished after the function is called\n",
    "    print(variableOutsideTheFunction)"
   ]
  },
  {
   "cell_type": "code",
   "execution_count": 36,
   "id": "fc8de55f-6cfa-45b1-92a5-ffd2f2ccf200",
   "metadata": {},
   "outputs": [
    {
     "name": "stdout",
     "output_type": "stream",
     "text": [
      "5\n"
     ]
    }
   ],
   "source": [
    "g() # it finished after calling the function "
   ]
  },
  {
   "cell_type": "code",
   "execution_count": 38,
   "id": "796a1886-c8be-49fb-b604-9df9153f3f37",
   "metadata": {},
   "outputs": [
    {
     "name": "stdout",
     "output_type": "stream",
     "text": [
      "3\n"
     ]
    }
   ],
   "source": [
    "print(variableOutsideTheFunction)# the global variable is activated \n",
    "# it is always advisable to pass the imput argument of whatever you want to access inside tghe function to avoid confusion"
   ]
  },
  {
   "cell_type": "code",
   "execution_count": 52,
   "id": "d62b1a42-38ed-44e5-b449-23d24242c50f",
   "metadata": {},
   "outputs": [],
   "source": [
    "#return statement can return multiple value\n",
    "#example#\n",
    "def r():\n",
    "    a = 5\n",
    "    b = 6\n",
    "    d = 7\n",
    "    return a, b, d"
   ]
  },
  {
   "cell_type": "code",
   "execution_count": 55,
   "id": "5307ae7e-00ca-4d00-9218-a7c264d6c7b9",
   "metadata": {},
   "outputs": [
    {
     "name": "stdout",
     "output_type": "stream",
     "text": [
      "5 6 7\n"
     ]
    }
   ],
   "source": [
    "x,y,z = r()\n",
    "print(x,y,z)"
   ]
  },
  {
   "cell_type": "code",
   "execution_count": 56,
   "id": "5854fc02-aaf6-4f09-818b-9f82ba5231c7",
   "metadata": {},
   "outputs": [
    {
     "data": {
      "text/plain": [
       "(5, 6, 7)"
      ]
     },
     "execution_count": 56,
     "metadata": {},
     "output_type": "execute_result"
    }
   ],
   "source": [
    "r()"
   ]
  },
  {
   "cell_type": "code",
   "execution_count": 57,
   "id": "955177f4-0f02-4e05-a047-a8bc17310d0a",
   "metadata": {},
   "outputs": [
    {
     "name": "stdout",
     "output_type": "stream",
     "text": [
      "(5, 6, 7)\n"
     ]
    }
   ],
   "source": [
    "print(r())"
   ]
  },
  {
   "cell_type": "markdown",
   "id": "9a1c499f-5868-4df8-ae68-8ae15737eb87",
   "metadata": {},
   "source": [
    "FUNCTIONS (Variable number of input arguments)"
   ]
  },
  {
   "cell_type": "code",
   "execution_count": 63,
   "id": "0b826b5a-827e-428e-bfe3-5d87c4f26c71",
   "metadata": {},
   "outputs": [],
   "source": [
    "def myAddUniversal(*args):# give list kind of argument\n",
    "    s = 0\n",
    "    #\n",
    "    for i in range(len(args)):\n",
    "        s += args[i]\n",
    "    return s"
   ]
  },
  {
   "cell_type": "code",
   "execution_count": 64,
   "id": "60f4bb11-7396-4ab6-938a-69b8777295b6",
   "metadata": {},
   "outputs": [
    {
     "data": {
      "text/plain": [
       "30"
      ]
     },
     "execution_count": 64,
     "metadata": {},
     "output_type": "execute_result"
    }
   ],
   "source": [
    "myAddUniversal(2, 3, 5, 4,7, 9)"
   ]
  },
  {
   "cell_type": "code",
   "execution_count": 68,
   "id": "e76bf62d-44c3-497c-9a52-8dfbcf9d14d4",
   "metadata": {},
   "outputs": [],
   "source": [
    "def printAllVariableNamesAndValue(**args):# this give the dictinary kind of argument\n",
    "    for x in args:\n",
    "        print(\"the variable name is :\", x, \"And the value name is :\", args[x])"
   ]
  },
  {
   "cell_type": "code",
   "execution_count": 69,
   "id": "404c9f9d-4e26-4700-9d51-4ec303fe0996",
   "metadata": {},
   "outputs": [
    {
     "name": "stdout",
     "output_type": "stream",
     "text": [
      "the variable name is : a And the value name is : 2\n",
      "the variable name is : b And the value name is : name\n",
      "the variable name is : c And the value name is : goat\n"
     ]
    }
   ],
   "source": [
    "printAllVariableNamesAndValue(a=2, b=\"name\", c=\"goat\")"
   ]
  },
  {
   "cell_type": "markdown",
   "id": "8da028b2-3ef1-4b17-98ac-895c7bd59301",
   "metadata": {},
   "source": [
    "FUNCTIONS(Default Values)"
   ]
  },
  {
   "cell_type": "code",
   "execution_count": 70,
   "id": "dc48f74f-e5d7-4823-844b-68b957811959",
   "metadata": {},
   "outputs": [],
   "source": [
    "def gg(s = 5):\n",
    "    print(s)"
   ]
  },
  {
   "cell_type": "code",
   "execution_count": 71,
   "id": "05113386-5379-487f-a8de-41ee42e09a67",
   "metadata": {},
   "outputs": [
    {
     "name": "stdout",
     "output_type": "stream",
     "text": [
      "5\n"
     ]
    }
   ],
   "source": [
    "gg()"
   ]
  },
  {
   "cell_type": "code",
   "execution_count": 72,
   "id": "28dbdb04-305f-45e1-a8c2-4e317a5b0276",
   "metadata": {},
   "outputs": [
    {
     "name": "stdout",
     "output_type": "stream",
     "text": [
      "76\n"
     ]
    }
   ],
   "source": [
    "gg(76)"
   ]
  },
  {
   "cell_type": "code",
   "execution_count": 75,
   "id": "d7a94cfd-374a-4eb3-a80a-bd00390160e6",
   "metadata": {},
   "outputs": [],
   "source": [
    "p = 45"
   ]
  },
  {
   "cell_type": "code",
   "execution_count": 76,
   "id": "b987a16f-5581-468d-874e-0311af37be8c",
   "metadata": {},
   "outputs": [
    {
     "name": "stdout",
     "output_type": "stream",
     "text": [
      "45\n"
     ]
    }
   ],
   "source": [
    "gg(p)"
   ]
  },
  {
   "cell_type": "code",
   "execution_count": 78,
   "id": "c7116ffc-c814-4645-ae3a-e82af5ed2799",
   "metadata": {},
   "outputs": [],
   "source": [
    "def ff(L=[1, 2]):\n",
    "    for i in L:\n",
    "        print(i)"
   ]
  },
  {
   "cell_type": "code",
   "execution_count": 79,
   "id": "bc7874d6-967d-49fc-aa37-74501dd556ca",
   "metadata": {},
   "outputs": [
    {
     "name": "stdout",
     "output_type": "stream",
     "text": [
      "1\n",
      "2\n"
     ]
    }
   ],
   "source": [
    "ff()"
   ]
  },
  {
   "cell_type": "code",
   "execution_count": 90,
   "id": "f8291b5a-b5c1-49bb-8956-06e7596f5f87",
   "metadata": {},
   "outputs": [
    {
     "name": "stdout",
     "output_type": "stream",
     "text": [
      "3\n",
      "5\n",
      "7\n",
      "9\n"
     ]
    }
   ],
   "source": [
    "l2 = [3,5,7,9]\n",
    "ff(l2)"
   ]
  },
  {
   "cell_type": "code",
   "execution_count": 88,
   "id": "53e9e6e0-a223-40eb-b9ca-4ad5190ebdc1",
   "metadata": {},
   "outputs": [
    {
     "name": "stdout",
     "output_type": "stream",
     "text": [
      "[12, 4, 6, 8]\n"
     ]
    }
   ],
   "source": [
    "c1 = [2,4,6,8]\n",
    "c2 = c1\n",
    "c2[0] = 12\n",
    "print(c1)"
   ]
  },
  {
   "cell_type": "code",
   "execution_count": 91,
   "id": "683b6174-4c25-4e76-9e34-05453a540353",
   "metadata": {},
   "outputs": [
    {
     "name": "stdout",
     "output_type": "stream",
     "text": [
      "1\n",
      "2\n"
     ]
    }
   ],
   "source": [
    "ff()"
   ]
  },
  {
   "cell_type": "code",
   "execution_count": 33,
   "id": "399456cd-a9c4-48b8-a3d8-f5c0fcb462d5",
   "metadata": {},
   "outputs": [],
   "source": [
    "import sys\n",
    "sys.path.append(\"C:/ABC/\")"
   ]
  },
  {
   "cell_type": "code",
   "execution_count": 3,
   "id": "adcef5b9-8d00-4292-b35f-31a777f8662b",
   "metadata": {},
   "outputs": [],
   "source": [
    "import my_universal_functions as myfs\n",
    "#from my_universal_functions import addAllNumerics"
   ]
  },
  {
   "cell_type": "code",
   "execution_count": 4,
   "id": "ea99edd1-08ae-4bf2-bfb5-96eedf2656c4",
   "metadata": {},
   "outputs": [
    {
     "data": {
      "text/plain": [
       "20"
      ]
     },
     "execution_count": 4,
     "metadata": {},
     "output_type": "execute_result"
    }
   ],
   "source": [
    "addAllNumerics(2,5,6,7)"
   ]
  },
  {
   "cell_type": "code",
   "execution_count": 5,
   "id": "2a107e31-de46-4ae0-90d4-5af997b636f9",
   "metadata": {},
   "outputs": [
    {
     "data": {
      "text/plain": [
       "'Phython Course'"
      ]
     },
     "execution_count": 5,
     "metadata": {},
     "output_type": "execute_result"
    }
   ],
   "source": [
    "myfs.myName"
   ]
  },
  {
   "cell_type": "markdown",
   "id": "43c13630-798a-4e71-b508-da63b35aae47",
   "metadata": {},
   "source": [
    "## SOLVING PROBLEM ON FUNCTION"
   ]
  },
  {
   "cell_type": "code",
   "execution_count": 6,
   "id": "700d9008-c299-42da-9221-10cefa780733",
   "metadata": {},
   "outputs": [
    {
     "data": {
      "text/plain": [
       "'   TASK***\\n    Define several functions that Gives a list of number i.e [1, 2, 4, -5, 7, 9, 3, 2], make another list\\n    that contain all the items in sorted order from min to max i.e your \\n    rsults will be another list like [-5, 1, 2, 2, 3, 4, 7, 9]\\n'"
      ]
     },
     "execution_count": 6,
     "metadata": {},
     "output_type": "execute_result"
    }
   ],
   "source": [
    "\"\"\"   TASK***\n",
    "    Define several functions that Gives a list of number i.e [1, 2, 4, -5, 7, 9, 3, 2], make another list\n",
    "    that contain all the items in sorted order from min to max i.e your \n",
    "    rsults will be another list like [-5, 1, 2, 2, 3, 4, 7, 9]\n",
    "\"\"\""
   ]
  },
  {
   "cell_type": "code",
   "execution_count": 128,
   "id": "92a2010d-315f-47f5-b928-3a5c0e872d91",
   "metadata": {},
   "outputs": [],
   "source": [
    "def findMin(L, startIdx):\n",
    "    m = L[startIdx]\n",
    "    idx = startIdx\n",
    "    \n",
    "    for i in range(startIdx, len(L)):\n",
    "        x = L[i]\n",
    "        if (x < m):\n",
    "            m = x\n",
    "            idx = i\n",
    "    return idx, m"
   ]
  },
  {
   "cell_type": "code",
   "execution_count": 131,
   "id": "3e64632d-cab6-4840-bc3e-a7253b860f20",
   "metadata": {},
   "outputs": [
    {
     "data": {
      "text/plain": [
       "(3, -8)"
      ]
     },
     "execution_count": 131,
     "metadata": {},
     "output_type": "execute_result"
    }
   ],
   "source": [
    "findMin([2,4,7,-8, 9,3,0,6], 0)"
   ]
  },
  {
   "cell_type": "code",
   "execution_count": 75,
   "id": "9b647d05-0963-49e7-a608-0e3afe980ed6",
   "metadata": {},
   "outputs": [],
   "source": [
    "def swapValue(L,idx1,idx2):\n",
    "    tmp = L[idx1]\n",
    "    L[idx1] = L[idx2]\n",
    "    L[idx2] = tmp\n",
    "    return L"
   ]
  },
  {
   "cell_type": "code",
   "execution_count": 76,
   "id": "2dfa1139-fced-430a-8d4c-8ca8ce7101e4",
   "metadata": {},
   "outputs": [
    {
     "name": "stdout",
     "output_type": "stream",
     "text": [
      "[2, 7, 0, -4, 8, 1, 5, 3, 2]\n"
     ]
    }
   ],
   "source": [
    "L = [2, 7, 8, -4, 0, 1, 5, 3, 2]\n",
    "print(swapValue(L, 2, 4)) "
   ]
  },
  {
   "cell_type": "code",
   "execution_count": 139,
   "id": "cb19a8fe-9d69-4d26-9be8-6588023324db",
   "metadata": {},
   "outputs": [],
   "source": [
    "def checkIfNumeric(L):\n",
    "    for x in L:\n",
    "        if not(isinstance(x, (int, float))):\n",
    "            return False\n",
    "    return True"
   ]
  },
  {
   "cell_type": "code",
   "execution_count": 140,
   "id": "7b639d03-a3a4-46a9-a168-aad11d8618e4",
   "metadata": {},
   "outputs": [
    {
     "data": {
      "text/plain": [
       "True"
      ]
     },
     "execution_count": 140,
     "metadata": {},
     "output_type": "execute_result"
    }
   ],
   "source": [
    "checkIfNumeric([2, 7, 8, -4, 0, 1,  5, 3, 2])\n",
    "#not(type(\"j\") == int)"
   ]
  },
  {
   "cell_type": "markdown",
   "id": "af449f98-6695-4334-9c60-c21f124b4bbf",
   "metadata": {},
   "source": [
    "def sortList(L):\n",
    "        if not((checkIfNumeric(L))):\n",
    "            print(\"Error: List does not contain numeric value\")\n",
    "            return\n",
    "        else:\n",
    "            c = 0\n",
    "            for x in L:\n",
    "                idx, m = findMin(L,c)\n",
    "                L = swapValue(L,c,idx)\n",
    "                c += 1\n",
    "        return L"
   ]
  },
  {
   "cell_type": "code",
   "execution_count": 142,
   "id": "936cad45-99b8-431a-8b3c-86a875596c71",
   "metadata": {},
   "outputs": [
    {
     "data": {
      "text/plain": [
       "[-6, -4, 0, 1, 2, 2, 3, 5, 7, 9]"
      ]
     },
     "execution_count": 142,
     "metadata": {},
     "output_type": "execute_result"
    }
   ],
   "source": [
    "L = [2,1,5, -4, -6, 9, 2,3,7,0]\n",
    "sortList(L)"
   ]
  },
  {
   "cell_type": "markdown",
   "id": "333a74e0-8ba2-4c32-9ffe-265d2d9ed855",
   "metadata": {},
   "source": [
    "# STRINGS"
   ]
  },
  {
   "cell_type": "code",
   "execution_count": 143,
   "id": "0cd103e9-0921-46db-935d-b459e2e1a129",
   "metadata": {},
   "outputs": [],
   "source": [
    "s = \"Python is a good language\"\n",
    "t = \"It's good for data science\""
   ]
  },
  {
   "cell_type": "code",
   "execution_count": 144,
   "id": "a4ff6d8d-d5d5-45bb-b440-e42c5183fef7",
   "metadata": {},
   "outputs": [
    {
     "data": {
      "text/plain": [
       "str"
      ]
     },
     "execution_count": 144,
     "metadata": {},
     "output_type": "execute_result"
    }
   ],
   "source": [
    "type(s)"
   ]
  },
  {
   "cell_type": "markdown",
   "id": "75fcc154-8e3d-417d-9913-2413453787bb",
   "metadata": {},
   "source": [
    "v = s+ \" \" + t\n",
    "print(v)"
   ]
  },
  {
   "cell_type": "code",
   "execution_count": 152,
   "id": "8b3f5313-46aa-4396-b4a2-ab3e221090c3",
   "metadata": {},
   "outputs": [
    {
     "name": "stdout",
     "output_type": "stream",
     "text": [
      "The price of this book is: 12\n",
      "The price of this book is: 12\n"
     ]
    }
   ],
   "source": [
    "price = 12\n",
    "b = \"The price of this book\"\n",
    "v = b + \" is: \" + str(price) # price is an int and cannot be concatenated with string instead we convert it to strings\n",
    "print(v)\n",
    "print(b, \"is:\", price)"
   ]
  },
  {
   "cell_type": "code",
   "execution_count": 156,
   "id": "e41d3e83-3972-4c84-ad51-f10b1b4db471",
   "metadata": {},
   "outputs": [
    {
     "name": "stdout",
     "output_type": "stream",
     "text": [
      "this is line one\n",
      "this is line 2\n",
      "this is lie 3\n"
     ]
    }
   ],
   "source": [
    "a = \"\"\"this is line one\n",
    "this is line 2\n",
    "this is lie 3\"\"\"\n",
    "print(a)"
   ]
  },
  {
   "cell_type": "markdown",
   "id": "ccbade77-f0f3-4fee-adb2-7e2b19551b4f",
   "metadata": {},
   "source": [
    "STRING (MULTI LINE STRING)"
   ]
  },
  {
   "cell_type": "code",
   "execution_count": 157,
   "id": "210a19c3-5cae-4c40-8a99-7dfe5485a8c7",
   "metadata": {},
   "outputs": [
    {
     "name": "stdout",
     "output_type": "stream",
     "text": [
      "r\n"
     ]
    }
   ],
   "source": [
    "s = \"How are you and who are you\"\n",
    "print(s[5]) # indexing"
   ]
  },
  {
   "cell_type": "code",
   "execution_count": 161,
   "id": "3c174e9a-7272-4432-b802-0312dfafdba8",
   "metadata": {},
   "outputs": [
    {
     "data": {
      "text/plain": [
       "'How are you'"
      ]
     },
     "execution_count": 161,
     "metadata": {},
     "output_type": "execute_result"
    }
   ],
   "source": [
    "s[0:11]"
   ]
  },
  {
   "cell_type": "code",
   "execution_count": 164,
   "id": "09d45880-af17-4370-b0cc-ddd17612f83c",
   "metadata": {},
   "outputs": [
    {
     "data": {
      "text/plain": [
       "'y'"
      ]
     },
     "execution_count": 164,
     "metadata": {},
     "output_type": "execute_result"
    }
   ],
   "source": [
    "s[-3]"
   ]
  },
  {
   "cell_type": "code",
   "execution_count": 165,
   "id": "396fb6fd-d508-40eb-9c68-68c73fcb56cb",
   "metadata": {},
   "outputs": [
    {
     "data": {
      "text/plain": [
       "' are '"
      ]
     },
     "execution_count": 165,
     "metadata": {},
     "output_type": "execute_result"
    }
   ],
   "source": [
    "s[-8: -3] # slicing"
   ]
  },
  {
   "cell_type": "code",
   "execution_count": 167,
   "id": "20e605e4-187f-42da-ab9d-979d3e947aa2",
   "metadata": {},
   "outputs": [
    {
     "data": {
      "text/plain": [
       "' who are '"
      ]
     },
     "execution_count": 167,
     "metadata": {},
     "output_type": "execute_result"
    }
   ],
   "source": [
    "s[-12:-3] #strings is immutable i.e you can't change any index in the string"
   ]
  },
  {
   "cell_type": "code",
   "execution_count": 168,
   "id": "f500be1f-5dd1-42b5-8b24-9e8e83426a04",
   "metadata": {},
   "outputs": [
    {
     "data": {
      "text/plain": [
       "'Hwaeyu'"
      ]
     },
     "execution_count": 168,
     "metadata": {},
     "output_type": "execute_result"
    }
   ],
   "source": [
    "s[0:12:2]# it means start from 0 and moveto 12 excluding 12 and take a step of 2\n",
    "# s[start: end: steps]\n",
    "s[:12]"
   ]
  },
  {
   "cell_type": "code",
   "execution_count": 169,
   "id": "0d1e91a9-e1df-4c94-b03d-83aae3ee9eae",
   "metadata": {},
   "outputs": [
    {
     "data": {
      "text/plain": [
       "' are you and who are you'"
      ]
     },
     "execution_count": 169,
     "metadata": {},
     "output_type": "execute_result"
    }
   ],
   "source": [
    "s[3:]"
   ]
  },
  {
   "cell_type": "code",
   "execution_count": 170,
   "id": "8e33722f-54ef-41ab-8a83-921af7126928",
   "metadata": {},
   "outputs": [
    {
     "data": {
      "text/plain": [
       "'uoy era ohw dna uoy era woH'"
      ]
     },
     "execution_count": 170,
     "metadata": {},
     "output_type": "execute_result"
    }
   ],
   "source": [
    "s[::-1]"
   ]
  },
  {
   "cell_type": "code",
   "execution_count": 171,
   "id": "8ab44484-3400-408f-bd6e-b402a570b7aa",
   "metadata": {},
   "outputs": [
    {
     "name": "stdout",
     "output_type": "stream",
     "text": [
      "abc      def       hern     sklinjed\n"
     ]
    }
   ],
   "source": [
    "a = \"           abc      def       hern     sklinjed      \"\n",
    "b = a.strip()\n",
    "print(b)"
   ]
  },
  {
   "cell_type": "code",
   "execution_count": 173,
   "id": "238c7a13-102c-48ae-9685-a30e09cff690",
   "metadata": {},
   "outputs": [
    {
     "name": "stdout",
     "output_type": "stream",
     "text": [
      "abc dchfg ;; sadfa qf\n"
     ]
    }
   ],
   "source": [
    "a = \"ABC dchFg ;; sadfa QF\"\n",
    "b = a.lower()\n",
    "print(b)"
   ]
  },
  {
   "cell_type": "code",
   "execution_count": 174,
   "id": "7bc3ae3b-7a87-4599-9393-2e796e665252",
   "metadata": {},
   "outputs": [
    {
     "name": "stdout",
     "output_type": "stream",
     "text": [
      "ABC DCHFG ;; SADFA QF\n"
     ]
    }
   ],
   "source": [
    "c = a.upper()\n",
    "print(c)"
   ]
  },
  {
   "cell_type": "code",
   "execution_count": 175,
   "id": "3aefc6d9-6201-4dae-a35b-cdc4791752c0",
   "metadata": {},
   "outputs": [
    {
     "name": "stdout",
     "output_type": "stream",
     "text": [
      "ABC dchFg ** sadfa QF\n"
     ]
    }
   ],
   "source": [
    "d = a.replace(\";\", \"*\")\n",
    "print(d)"
   ]
  },
  {
   "cell_type": "code",
   "execution_count": 176,
   "id": "023405be-ccba-49c6-aa12-aeccffb5dba8",
   "metadata": {},
   "outputs": [],
   "source": [
    "d = a.replace(\";\", \"**@@##**\")"
   ]
  },
  {
   "cell_type": "code",
   "execution_count": 177,
   "id": "aebc8436-7429-42cf-a1d0-b96c584e801f",
   "metadata": {},
   "outputs": [
    {
     "name": "stdout",
     "output_type": "stream",
     "text": [
      "ABC dchFg **@@##****@@##** sadfa QF\n"
     ]
    }
   ],
   "source": [
    "print(d)"
   ]
  },
  {
   "cell_type": "code",
   "execution_count": 178,
   "id": "db2bbd0d-7818-4ff2-80f9-be8d94d04cfc",
   "metadata": {},
   "outputs": [
    {
     "name": "stdout",
     "output_type": "stream",
     "text": [
      "ABC dchFg two semicolon sadfa QF\n"
     ]
    }
   ],
   "source": [
    "d = a.replace(\";;\", \"two semicolon\")\n",
    "print(d)"
   ]
  },
  {
   "cell_type": "code",
   "execution_count": 179,
   "id": "5a5bdc40-f872-4879-bdf2-7fa9635542c4",
   "metadata": {},
   "outputs": [
    {
     "name": "stdout",
     "output_type": "stream",
     "text": [
      "['acb', 'drfg', 'fsefvvdf', 'yy232']\n"
     ]
    }
   ],
   "source": [
    "a = \"acb;drfg;fsefvvdf;yy232\"\n",
    "L = a.split(\";\")\n",
    "print(L)"
   ]
  },
  {
   "cell_type": "code",
   "execution_count": 181,
   "id": "aece380c-852d-4bee-a195-dbfe1f43ab86",
   "metadata": {},
   "outputs": [
    {
     "name": "stdout",
     "output_type": "stream",
     "text": [
      "False\n"
     ]
    }
   ],
   "source": [
    "a = \"atkdfjfjjjjattttatme\"\n",
    "print(\"jm\" in a)"
   ]
  },
  {
   "cell_type": "code",
   "execution_count": 182,
   "id": "775ce49e-353f-4619-ad3a-07149bec6e5c",
   "metadata": {},
   "outputs": [
    {
     "data": {
      "text/plain": [
       "True"
      ]
     },
     "execution_count": 182,
     "metadata": {},
     "output_type": "execute_result"
    }
   ],
   "source": [
    "\"abc\" == \"abc\""
   ]
  },
  {
   "cell_type": "code",
   "execution_count": 183,
   "id": "3c818001-b0d1-4017-9b03-190bde2e4829",
   "metadata": {},
   "outputs": [
    {
     "name": "stdout",
     "output_type": "stream",
     "text": [
      "we are learning \"string\" here\n"
     ]
    }
   ],
   "source": [
    "print(\"we are learning \\\"string\\\" here\")"
   ]
  },
  {
   "cell_type": "code",
   "execution_count": 184,
   "id": "a2758f40-0ff4-4003-86a5-9b3c094a6daf",
   "metadata": {},
   "outputs": [
    {
     "name": "stdout",
     "output_type": "stream",
     "text": [
      "we are learning \"string\" here\n"
     ]
    }
   ],
   "source": [
    "print('we are learning \"string\" here')"
   ]
  },
  {
   "cell_type": "code",
   "execution_count": 185,
   "id": "ce4e0f1d-7a5c-41fe-a858-3df5ffd08640",
   "metadata": {},
   "outputs": [
    {
     "name": "stdout",
     "output_type": "stream",
     "text": [
      "we are \n",
      " now on another line\n"
     ]
    }
   ],
   "source": [
    "print(\"we are \\n now on another line\")"
   ]
  },
  {
   "cell_type": "code",
   "execution_count": 186,
   "id": "c545bdba-4cf0-421d-a044-108e6057613f",
   "metadata": {},
   "outputs": [
    {
     "name": "stdout",
     "output_type": "stream",
     "text": [
      "we are \t now on another tab\n"
     ]
    }
   ],
   "source": [
    "print('we are \\t now on another tab')"
   ]
  },
  {
   "cell_type": "code",
   "execution_count": 187,
   "id": "371544e1-1e77-47a2-b472-86106480c400",
   "metadata": {},
   "outputs": [
    {
     "name": "stdout",
     "output_type": "stream",
     "text": [
      "c:\n",
      "ame\\drive\n"
     ]
    }
   ],
   "source": [
    "print(\"c:\\name\\drive\")"
   ]
  },
  {
   "cell_type": "code",
   "execution_count": 188,
   "id": "558485f2-e046-459f-8528-f784565b84ae",
   "metadata": {},
   "outputs": [
    {
     "name": "stdout",
     "output_type": "stream",
     "text": [
      "c:\\name\\drive\n"
     ]
    }
   ],
   "source": [
    "print(r\"c:\\name\\drive\") # the r mean print the raw strings"
   ]
  },
  {
   "cell_type": "markdown",
   "id": "f3ed4b73-9f17-409d-b6f3-f88f21874fad",
   "metadata": {},
   "source": [
    "# DATA STRUCTURE (LIST, TUPLE, SET, DICTIONARY)"
   ]
  },
  {
   "cell_type": "markdown",
   "id": "f2e72f2a-619c-4838-95cd-98844c3da46b",
   "metadata": {},
   "source": [
    "Data structure is the collection of data type which can be strings, integers, float etc"
   ]
  },
  {
   "cell_type": "code",
   "execution_count": null,
   "id": "d206c6e9-052a-465e-b673-3f850b263e5b",
   "metadata": {},
   "outputs": [],
   "source": []
  }
 ],
 "metadata": {
  "kernelspec": {
   "display_name": "Python 3 (ipykernel)",
   "language": "python",
   "name": "python3"
  },
  "language_info": {
   "codemirror_mode": {
    "name": "ipython",
    "version": 3
   },
   "file_extension": ".py",
   "mimetype": "text/x-python",
   "name": "python",
   "nbconvert_exporter": "python",
   "pygments_lexer": "ipython3",
   "version": "3.13.5"
  }
 },
 "nbformat": 4,
 "nbformat_minor": 5
}
